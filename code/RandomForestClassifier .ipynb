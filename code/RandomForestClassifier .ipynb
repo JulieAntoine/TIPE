{
 "cells": [
  {
   "cell_type": "code",
   "execution_count": 77,
   "metadata": {},
   "outputs": [],
   "source": [
    "import random\n",
    "import pandas as pd\n",
    "import numpy as np\n",
    "from sklearn.ensemble import RandomForestClassifier\n",
    "from sklearn import metrics\n",
    "\n",
    "bd = pd.read_csv('2013-2014.csv')\n",
    "n = bd.last_valid_index()"
   ]
  },
  {
   "cell_type": "code",
   "execution_count": 78,
   "metadata": {},
   "outputs": [],
   "source": [
    "PARAMETRES = ['FTHG','FTAG','FTR','HTHG','HTAG','HTR','HS','AS','HST','AST','HF','AF','HC','AC','HY','AY','HR','AR','B365H','B365D','B365A','BWH','BWD','BWA','IWH','IWD','IWA','LBH','LBD','LBA','PSH','PSD','PSA','WHH','WHD','WHA','SJH','SJD','SJA','VCH','VCD','VCA','Bb1X2','BbMxH','BbAvH','BbMxD','BbAvD','BbMxA','BbAvA','BbOU','BbMx>2.5','BbAv>2.5','BbMx<2.5','BbAv<2.5','BbAH','BbAHh','BbMxAHH','BbAvAHH','BbMxAHA','BbAvAHA','PSCH','PSCD','PSCA']"
   ]
  },
  {
   "cell_type": "code",
   "execution_count": 79,
   "metadata": {},
   "outputs": [],
   "source": [
    "ENTREES = ['HTHG','HTAG','HTR','AwayTeam','HomeTeam']"
   ]
  },
  {
   "cell_type": "code",
   "execution_count": 80,
   "metadata": {},
   "outputs": [],
   "source": [
    "SORTIES = ['FTR']"
   ]
  },
  {
   "cell_type": "code",
   "execution_count": 81,
   "metadata": {},
   "outputs": [
    {
     "data": {
      "text/plain": [
       "1"
      ]
     },
     "execution_count": 81,
     "metadata": {},
     "output_type": "execute_result"
    }
   ],
   "source": [
    "len(SORTIES)"
   ]
  },
  {
   "cell_type": "markdown",
   "metadata": {},
   "source": []
  },
  {
   "cell_type": "code",
   "execution_count": 82,
   "metadata": {},
   "outputs": [],
   "source": [
    "bd.loc[bd['FTR'] == 'H',['FTR']] = float(2.0)\n",
    "bd.loc[bd['FTR'] == 'D',['FTR']] = float(1.0)\n",
    "bd.loc[bd['FTR'] == 'A',['FTR']] = float(0.0)\n",
    "bd.loc[bd['HTR'] == 'H',['HTR']] = float(2.0)\n",
    "bd.loc[bd['HTR'] == 'D',['HTR']] = float(1.0)\n",
    "bd.loc[bd['HTR'] == 'A',['HTR']] = float(0.0)"
   ]
  },
  {
   "cell_type": "code",
   "execution_count": 83,
   "metadata": {},
   "outputs": [],
   "source": [
    "for param in PARAMETRES :\n",
    "    bd.loc[bd[param].isnull(),param] = np.round(bd[param].mean())"
   ]
  },
  {
   "cell_type": "code",
   "execution_count": 84,
   "metadata": {},
   "outputs": [
    {
     "name": "stderr",
     "output_type": "stream",
     "text": [
      "C:\\Users\\tautu\\AppData\\Local\\Temp\\ipykernel_16076\\946014658.py:5: SettingWithCopyWarning: \n",
      "A value is trying to be set on a copy of a slice from a DataFrame\n",
      "\n",
      "See the caveats in the documentation: https://pandas.pydata.org/pandas-docs/stable/user_guide/indexing.html#returning-a-view-versus-a-copy\n",
      "  bd['HomeTeam'].iloc[i] = l\n",
      "C:\\Users\\tautu\\AppData\\Local\\Temp\\ipykernel_16076\\946014658.py:11: SettingWithCopyWarning: \n",
      "A value is trying to be set on a copy of a slice from a DataFrame\n",
      "\n",
      "See the caveats in the documentation: https://pandas.pydata.org/pandas-docs/stable/user_guide/indexing.html#returning-a-view-versus-a-copy\n",
      "  bd['AwayTeam'].iloc[i] = l\n"
     ]
    }
   ],
   "source": [
    "for i in range(0,n+1):\n",
    "    l=0\n",
    "    for r in range (0,len(bd['HomeTeam'].iloc[i])):\n",
    "        l =+ float(ord((bd['HomeTeam'].iloc[i])[r])*r)\n",
    "    bd['HomeTeam'].iloc[i] = l\n",
    "\n",
    "for i in range(0,n+1):\n",
    "    l=0\n",
    "    for r in range (0,len(bd['AwayTeam'].iloc[i])):\n",
    "        l =+ float(ord((bd['AwayTeam'].iloc[i])[r])*r)\n",
    "    bd['AwayTeam'].iloc[i] = l"
   ]
  },
  {
   "cell_type": "code",
   "execution_count": 85,
   "metadata": {},
   "outputs": [
    {
     "data": {
      "text/plain": [
       "Div         0\n",
       "Date        0\n",
       "HomeTeam    0\n",
       "AwayTeam    0\n",
       "FTHG        0\n",
       "           ..\n",
       "BbMxAHA     0\n",
       "BbAvAHA     0\n",
       "PSCH        0\n",
       "PSCD        0\n",
       "PSCA        0\n",
       "Length: 67, dtype: int64"
      ]
     },
     "execution_count": 85,
     "metadata": {},
     "output_type": "execute_result"
    }
   ],
   "source": [
    "bd.isna().sum()"
   ]
  },
  {
   "cell_type": "code",
   "execution_count": 86,
   "metadata": {},
   "outputs": [],
   "source": [
    "bd = bd.sample(frac=1, random_state=217)"
   ]
  },
  {
   "cell_type": "code",
   "execution_count": 87,
   "metadata": {},
   "outputs": [],
   "source": [
    "X_entrainement = bd[ENTREES][:int(n*0.8)]\n",
    "Y_entrainement = bd[SORTIES][:int(n*0.8)].values\n",
    "X_essai = bd[ENTREES][int(n*0.8):]\n",
    "Y_essai = bd[SORTIES][int(n*0.8):].values"
   ]
  },
  {
   "cell_type": "code",
   "execution_count": 88,
   "metadata": {},
   "outputs": [],
   "source": [
    "def entropie(p):\n",
    "    if p == 0:\n",
    "        return 0\n",
    "    elif p == 1:\n",
    "        return 0\n",
    "    else:\n",
    "        return (- (p * np.log2(p) + (1 - p) * np.log2(1-p)))\n",
    "\n",
    "def gain_information(enfant_gauche, enfant_droit):\n",
    "    parent = enfant_gauche + enfant_droit\n",
    "    p_parent = parent.count(1) / len(parent) if len(parent) > 0 else 0\n",
    "    p_gauche = enfant_gauche.count(1) / len(enfant_gauche) if len(enfant_gauche) > 0 else 0\n",
    "    p_droit = enfant_droit.count(1) / len(enfant_droit) if len(enfant_droit) > 0 else 0\n",
    "    GI_p = entropie(p_parent)\n",
    "    GI_g = entropie(p_gauche)\n",
    "    GI_d = entropie(p_droit)\n",
    "    return GI_p - (len(enfant_gauche) / len(parent) * GI_g) - (len(enfant_droit) / len(parent) * GI_d)"
   ]
  },
  {
   "cell_type": "code",
   "execution_count": 89,
   "metadata": {},
   "outputs": [],
   "source": [
    "def arbre_prediction(arbre, X_essai):\n",
    "    ind_parametre = arbre['ind_parametre']\n",
    "\n",
    "    if X_essai[ind_parametre] <= arbre['point_separation']:\n",
    "        if type(arbre['coupe_gauche']) == dict:\n",
    "            return arbre_prediction(arbre['coupe_gauche'], X_essai)\n",
    "        else:\n",
    "            valeur = arbre['coupe_gauche']\n",
    "            return valeur\n",
    "    else:\n",
    "        if type(arbre['coupe_droite']) == dict:\n",
    "            return arbre_prediction(arbre['coupe_droite'], X_essai)\n",
    "        else:\n",
    "            return arbre['coupe_droite']"
   ]
  },
  {
   "cell_type": "code",
   "execution_count": 90,
   "metadata": {},
   "outputs": [],
   "source": [
    "def affichage_amorce(X_entrainement, Y_entrainement):\n",
    "    indices_amorce = list(np.random.choice(range(len(X_entrainement)), len(X_entrainement), replace = True))\n",
    "    indices_hb = [i for i in range(len(X_entrainement)) if i not in indices_amorce]\n",
    "    X_amorce = X_entrainement.iloc[indices_amorce].values\n",
    "    Y_amorce = Y_entrainement[indices_amorce]\n",
    "    X_hb = X_entrainement.iloc[indices_hb].values\n",
    "    Y_hb = Y_entrainement[indices_hb]\n",
    "    return X_amorce, Y_amorce, X_hb, Y_hb\n",
    "\n",
    "def score_hb(arbre, X_essai, Y_essai):\n",
    "    score = 0\n",
    "    for i in range(len(X_essai)):\n",
    "        pred = arbre_prediction(arbre, X_essai[i])\n",
    "        if pred != Y_essai[i]:\n",
    "            score += 1\n",
    "    return score / len(X_essai)"
   ]
  },
  {
   "cell_type": "code",
   "execution_count": 91,
   "metadata": {},
   "outputs": [],
   "source": [
    "def trouver_point_separation(X_amorce, Y_amorce, nb_max_parametres):\n",
    "    liste_parametres = list()\n",
    "    nombre_parametres = len(X_amorce[0])\n",
    "\n",
    "    while len(liste_parametres) <= nb_max_parametres:\n",
    "        ind_parametre = random.sample(range(nombre_parametres), 1)\n",
    "        if ind_parametre not in liste_parametres:\n",
    "            liste_parametres.extend(ind_parametre)\n",
    "\n",
    "    meilleur_gain_info = -999\n",
    "    noeud = None\n",
    "    for ind_parametre in liste_parametres:\n",
    "        for point_separation in X_amorce[:,ind_parametre]:\n",
    "            enfant_gauche = {'X_amorce': [], 'Y_amorce': []}\n",
    "            enfant_droit = {'X_amorce': [], 'Y_amorce': []}\n",
    "\n",
    "            # division des enfants pour les variables continues\n",
    "            if type(point_separation) in [int, float]:\n",
    "                for i, valeur in enumerate(X_amorce[:,ind_parametre]):\n",
    "                    if valeur <= point_separation:\n",
    "                        enfant_gauche['X_amorce'].append(X_amorce[i])\n",
    "                        enfant_gauche['Y_amorce'].append(Y_amorce[i])\n",
    "                    else:\n",
    "                        enfant_droit['X_amorce'].append(X_amorce[i])\n",
    "                        enfant_droit['Y_amorce'].append(Y_amorce[i])\n",
    "            # division des enfants pour les variables catégoriques\n",
    "            else:\n",
    "                for i, valeur in enumerate(X_amorce[:,ind_parametre]):\n",
    "                    if valeur == point_separation:\n",
    "                        enfant_gauche['X_amorce'].append(X_amorce[i])\n",
    "                        enfant_gauche['Y_amorce'].append(Y_amorce[i])\n",
    "                    else:\n",
    "                        enfant_droit['X_amorce'].append(X_amorce[i])\n",
    "                        enfant_droit['Y_amorce'].append(Y_amorce[i])\n",
    "\n",
    "            gain_info_coupe = gain_information(enfant_gauche['Y_amorce'], enfant_droit['Y_amorce'])\n",
    "            if gain_info_coupe > meilleur_gain_info:\n",
    "                meilleur_gain_info = gain_info_coupe\n",
    "                enfant_gauche['X_amorce'] = np.array(enfant_gauche['X_amorce'])\n",
    "                enfant_droit['X_amorce'] = np.array(enfant_droit['X_amorce'])\n",
    "                noeud = {'gain_information': gain_info_coupe,\n",
    "                        'enfant_gauche': enfant_gauche,\n",
    "                        'enfant_droit': enfant_droit,\n",
    "                        'point_separation': point_separation,\n",
    "                        'ind_parametre': ind_parametre}\n",
    "    return noeud"
   ]
  },
  {
   "cell_type": "code",
   "execution_count": 92,
   "metadata": {},
   "outputs": [],
   "source": [
    "def noeud_terminal(noeud):\n",
    "    Y_amorce = noeud['Y_amorce']\n",
    "    pred = max(Y_amorce, key = Y_amorce.count)\n",
    "    return pred"
   ]
  },
  {
   "cell_type": "code",
   "execution_count": 93,
   "metadata": {},
   "outputs": [],
   "source": [
    "def division_noeud(noeud, nb_max_parametres, nmb_division_min, profondeur_max, profondeur):\n",
    "    enfant_gauche = noeud['enfant_gauche']\n",
    "    enfant_droit = noeud['enfant_droit']\n",
    "\n",
    "    del(noeud['enfant_gauche'])\n",
    "    del(noeud['enfant_droit'])\n",
    "\n",
    "    if len(enfant_gauche['Y_amorce']) == 0 or len(enfant_droit['Y_amorce']) == 0:\n",
    "        enfant_vide = {'Y_amorce': enfant_gauche['Y_amorce'] + enfant_droit['Y_amorce']}\n",
    "        noeud['coupe_gauche'] = noeud_terminal(enfant_vide)\n",
    "        noeud['coupe_droite'] = noeud_terminal(enfant_vide)\n",
    "        return noeud\n",
    "\n",
    "    if profondeur >= profondeur_max:\n",
    "        noeud['coupe_gauche'] = noeud_terminal(enfant_gauche)\n",
    "        noeud['coupe_droite'] = noeud_terminal(enfant_droit)\n",
    "        return noeud\n",
    "\n",
    "    if len(enfant_gauche['X_amorce']) <= nmb_division_min:\n",
    "        noeud['coupe_gauche'] = noeud['coupe_droite'] = noeud_terminal(enfant_gauche)\n",
    "    else:\n",
    "        noeud['coupe_gauche'] = trouver_point_separation(enfant_gauche['X_amorce'], enfant_gauche['Y_amorce'], nb_max_parametres)\n",
    "        division_noeud(noeud['coupe_gauche'], profondeur_max, nmb_division_min, profondeur_max, profondeur + 1)\n",
    "    if len(enfant_droit['X_amorce']) <= nmb_division_min:\n",
    "        noeud['coupe_droite'] = noeud['coupe_gauche'] = noeud_terminal(enfant_droit)\n",
    "    else:\n",
    "        noeud['coupe_droite'] = trouver_point_separation(enfant_droit['X_amorce'], enfant_droit['Y_amorce'], nb_max_parametres)\n",
    "        division_noeud(noeud['coupe_droite'], nb_max_parametres, nmb_division_min, profondeur_max, profondeur + 1)"
   ]
  },
  {
   "cell_type": "code",
   "execution_count": 94,
   "metadata": {},
   "outputs": [],
   "source": [
    "def construction_arbre(X_amorce, Y_amorce, profondeur_max, nmb_division_min, nb_max_parametres):\n",
    "    racine = trouver_point_separation(X_amorce, Y_amorce, nb_max_parametres)\n",
    "    division_noeud(racine, nb_max_parametres, nmb_division_min, profondeur_max, 1)\n",
    "    return racine\n",
    "\n",
    "def foret_aleatoire(X_entrainement, Y_entrainement, nmb_arbres, nb_max_parametres, profondeur_max, nmb_division_min):\n",
    "    liste_arbres = list()\n",
    "    hb_arbres = list()\n",
    "    for i in range(nmb_arbres):\n",
    "        X_amorce, Y_amorce, X_hb, Y_hb = affichage_amorce(X_entrainement, Y_entrainement)\n",
    "        arbre = construction_arbre(X_amorce, Y_amorce, nb_max_parametres, profondeur_max, nmb_division_min)\n",
    "        liste_arbres.append(arbre)\n",
    "        erreur_hb = score_hb(arbre, X_hb, Y_hb)\n",
    "        hb_arbres.append(erreur_hb)\n",
    "    print(\"Estimation hors boîte : {:.2f}\".format(np.mean(hb_arbres)))\n",
    "    return liste_arbres"
   ]
  },
  {
   "cell_type": "code",
   "execution_count": 95,
   "metadata": {},
   "outputs": [],
   "source": [
    "def prediction(liste_arbres, X_essai):\n",
    "    liste_prediction = list()\n",
    "    for i in range(len(X_essai)):\n",
    "        ensemble_preds = [arbre_prediction(arbre, X_essai.values[i]) for arbre in liste_arbres]\n",
    "        pred_finale = max(ensemble_preds, key = ensemble_preds.count)\n",
    "        liste_prediction.append(pred_finale)\n",
    "    return np.array(liste_prediction)"
   ]
  },
  {
   "cell_type": "code",
   "execution_count": 96,
   "metadata": {},
   "outputs": [],
   "source": [
    "nmb_arbres = 150\n",
    "nb_max_parametres = 6\n",
    "profondeur_max = 15\n",
    "nmb_division_min = 3"
   ]
  },
  {
   "cell_type": "code",
   "execution_count": 97,
   "metadata": {},
   "outputs": [
    {
     "name": "stdout",
     "output_type": "stream",
     "text": [
      "Estimation hors boîte : 0.54\n"
     ]
    }
   ],
   "source": [
    "modele = foret_aleatoire(X_entrainement, Y_entrainement, nmb_arbres=100, nb_max_parametres=6, profondeur_max=15, nmb_division_min=3)"
   ]
  },
  {
   "cell_type": "code",
   "execution_count": 98,
   "metadata": {},
   "outputs": [],
   "source": [
    "resultats = prediction(modele,X_essai)"
   ]
  },
  {
   "cell_type": "code",
   "execution_count": 99,
   "metadata": {},
   "outputs": [
    {
     "name": "stdout",
     "output_type": "stream",
     "text": [
      "[61.]\n"
     ]
    }
   ],
   "source": [
    "acc = sum(resultats == Y_essai) / len(Y_essai)\n",
    "print(np.round(acc,2)*100)"
   ]
  },
  {
   "cell_type": "code",
   "execution_count": 100,
   "metadata": {},
   "outputs": [
    {
     "ename": "NameError",
     "evalue": "name 'confusion_matrix' is not defined",
     "output_type": "error",
     "traceback": [
      "\u001b[1;31m---------------------------------------------------------------------------\u001b[0m",
      "\u001b[1;31mNameError\u001b[0m                                 Traceback (most recent call last)",
      "Cell \u001b[1;32mIn [100], line 1\u001b[0m\n\u001b[1;32m----> 1\u001b[0m cm_display \u001b[38;5;241m=\u001b[39m metrics\u001b[38;5;241m.\u001b[39mConfusionMatrixDisplay(confusion_matrix \u001b[38;5;241m=\u001b[39m \u001b[43mconfusion_matrix\u001b[49m, display_labels \u001b[38;5;241m=\u001b[39m [\u001b[38;5;28;01mFalse\u001b[39;00m, \u001b[38;5;28;01mTrue\u001b[39;00m])\n",
      "\u001b[1;31mNameError\u001b[0m: name 'confusion_matrix' is not defined"
     ]
    }
   ],
   "source": [
    "cm_display = metrics.ConfusionMatrixDisplay(confusion_matrix = confusion_matrix, display_labels = [False, True])"
   ]
  },
  {
   "cell_type": "code",
   "execution_count": null,
   "metadata": {},
   "outputs": [],
   "source": [
    "import matplotlib.pyplot as plt"
   ]
  },
  {
   "cell_type": "code",
   "execution_count": null,
   "metadata": {},
   "outputs": [],
   "source": [
    "cm_display.plot()\n",
    "plt.show()"
   ]
  }
 ],
 "metadata": {
  "kernelspec": {
   "display_name": "Python 3",
   "language": "python",
   "name": "python3"
  },
  "language_info": {
   "codemirror_mode": {
    "name": "ipython",
    "version": 3
   },
   "file_extension": ".py",
   "mimetype": "text/x-python",
   "name": "python",
   "nbconvert_exporter": "python",
   "pygments_lexer": "ipython3",
   "version": "3.10.11"
  }
 },
 "nbformat": 4,
 "nbformat_minor": 2
}
